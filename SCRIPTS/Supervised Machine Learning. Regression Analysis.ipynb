{
 "cells": [
  {
   "cell_type": "markdown",
   "id": "3a32e94b",
   "metadata": {},
   "source": [
    "#### This script contains the following:\n",
    "    \n",
    "1. Importing libraries and data\n",
    "\n",
    "2. Data cleaning\n",
    "\n",
    "3. Data Merging \n",
    "\n",
    "3. Data prep for regression analysis\n",
    "\n",
    "4. Regression analysis\n"
   ]
  },
  {
   "cell_type": "code",
   "execution_count": 1,
   "id": "96c0a0f6",
   "metadata": {},
   "outputs": [],
   "source": [
    "import pandas as pd\n",
    "import numpy as np\n",
    "import seaborn as sns\n",
    "import matplotlib\n",
    "import matplotlib.pyplot as plt\n",
    "import os\n",
    "import sklearn\n",
    "from sklearn.model_selection import train_test_split \n",
    "from sklearn.linear_model import LinearRegression\n",
    "from sklearn.metrics import mean_squared_error, r2_score"
   ]
  },
  {
   "cell_type": "code",
   "execution_count": 2,
   "id": "55405053",
   "metadata": {},
   "outputs": [],
   "source": [
    "# Setting Path\n",
    "path= r'/Users/pierremora/Desktop/LinkedIn Job Postings 2023'"
   ]
  },
  {
   "cell_type": "code",
   "execution_count": 5,
   "id": "a6a349e4",
   "metadata": {},
   "outputs": [],
   "source": [
    "# Importing dataframe\n",
    "jobs_link1= pd.read_csv(os.path.join(path, 'DATA', 'CLEAN DATA', 'merged_job_company_industry.csv'))"
   ]
  },
  {
   "cell_type": "code",
   "execution_count": 6,
   "id": "8e00c5a1",
   "metadata": {},
   "outputs": [],
   "source": [
    "# Importing dataframe\n",
    "employees= pd.read_csv(os.path.join(path, 'DATA', 'RAW DATA', 'employee_counts.csv'))"
   ]
  },
  {
   "cell_type": "code",
   "execution_count": 8,
   "id": "5fb23cdb",
   "metadata": {},
   "outputs": [
    {
     "data": {
      "text/html": [
       "<div>\n",
       "<style scoped>\n",
       "    .dataframe tbody tr th:only-of-type {\n",
       "        vertical-align: middle;\n",
       "    }\n",
       "\n",
       "    .dataframe tbody tr th {\n",
       "        vertical-align: top;\n",
       "    }\n",
       "\n",
       "    .dataframe thead th {\n",
       "        text-align: right;\n",
       "    }\n",
       "</style>\n",
       "<table border=\"1\" class=\"dataframe\">\n",
       "  <thead>\n",
       "    <tr style=\"text-align: right;\">\n",
       "      <th></th>\n",
       "      <th>company_id</th>\n",
       "      <th>employee_count</th>\n",
       "      <th>follower_count</th>\n",
       "      <th>time_recorded</th>\n",
       "    </tr>\n",
       "  </thead>\n",
       "  <tbody>\n",
       "    <tr>\n",
       "      <th>0</th>\n",
       "      <td>81149246</td>\n",
       "      <td>6</td>\n",
       "      <td>91</td>\n",
       "      <td>1.692645e+09</td>\n",
       "    </tr>\n",
       "    <tr>\n",
       "      <th>1</th>\n",
       "      <td>10033339</td>\n",
       "      <td>3</td>\n",
       "      <td>187</td>\n",
       "      <td>1.692645e+09</td>\n",
       "    </tr>\n",
       "    <tr>\n",
       "      <th>2</th>\n",
       "      <td>6049228</td>\n",
       "      <td>20</td>\n",
       "      <td>82</td>\n",
       "      <td>1.692645e+09</td>\n",
       "    </tr>\n",
       "    <tr>\n",
       "      <th>3</th>\n",
       "      <td>2641066</td>\n",
       "      <td>45</td>\n",
       "      <td>2336</td>\n",
       "      <td>1.692645e+09</td>\n",
       "    </tr>\n",
       "    <tr>\n",
       "      <th>4</th>\n",
       "      <td>96649998</td>\n",
       "      <td>0</td>\n",
       "      <td>2</td>\n",
       "      <td>1.692645e+09</td>\n",
       "    </tr>\n",
       "  </tbody>\n",
       "</table>\n",
       "</div>"
      ],
      "text/plain": [
       "   company_id  employee_count  follower_count  time_recorded\n",
       "0    81149246               6              91   1.692645e+09\n",
       "1    10033339               3             187   1.692645e+09\n",
       "2     6049228              20              82   1.692645e+09\n",
       "3     2641066              45            2336   1.692645e+09\n",
       "4    96649998               0               2   1.692645e+09"
      ]
     },
     "execution_count": 8,
     "metadata": {},
     "output_type": "execute_result"
    }
   ],
   "source": [
    "# data cleanning for new dataset\n",
    "employees.head()"
   ]
  },
  {
   "cell_type": "code",
   "execution_count": 9,
   "id": "e09e6ec6",
   "metadata": {},
   "outputs": [],
   "source": [
    "# counting missing values\n",
    "missing_values = employees.isnull().sum()"
   ]
  },
  {
   "cell_type": "code",
   "execution_count": 10,
   "id": "536d82bb",
   "metadata": {},
   "outputs": [],
   "source": [
    "# Calculating the percentage of missing values\n",
    "missing_percentage = (missing_values / len(employees)) * 100"
   ]
  },
  {
   "cell_type": "code",
   "execution_count": 11,
   "id": "f438cde3",
   "metadata": {},
   "outputs": [],
   "source": [
    "# Combining  the results and sort by percentage:\n",
    "missing_data = pd.DataFrame({\n",
    "    'Missing Values': missing_values,\n",
    "    'Percentage': missing_percentage\n",
    "}).sort_values(by='Percentage', ascending=False)"
   ]
  },
  {
   "cell_type": "code",
   "execution_count": 12,
   "id": "998172d4",
   "metadata": {
    "scrolled": true
   },
   "outputs": [
    {
     "name": "stdout",
     "output_type": "stream",
     "text": [
      "Empty DataFrame\n",
      "Columns: [Missing Values, Percentage]\n",
      "Index: []\n"
     ]
    }
   ],
   "source": [
    "# checking results\n",
    "print(missing_data[missing_data['Missing Values'] > 0])"
   ]
  },
  {
   "cell_type": "markdown",
   "id": "2cf40dc3",
   "metadata": {},
   "source": [
    "### No missing values"
   ]
  },
  {
   "cell_type": "code",
   "execution_count": 13,
   "id": "2f77543a",
   "metadata": {},
   "outputs": [
    {
     "name": "stdout",
     "output_type": "stream",
     "text": [
      "Number of fully duplicated rows: 3356\n"
     ]
    }
   ],
   "source": [
    "# Identifying fully duplicated rows\n",
    "full_duplicates = employees[employees.duplicated()]\n",
    "\n",
    "# Counting the number of fully duplicated rows\n",
    "num_full_duplicates = len(full_duplicates)\n",
    "print(f\"Number of fully duplicated rows: {num_full_duplicates}\")"
   ]
  },
  {
   "cell_type": "code",
   "execution_count": 14,
   "id": "70515deb",
   "metadata": {},
   "outputs": [
    {
     "data": {
      "text/plain": [
       "(15907, 4)"
      ]
     },
     "execution_count": 14,
     "metadata": {},
     "output_type": "execute_result"
    }
   ],
   "source": [
    "employees.shape"
   ]
  },
  {
   "cell_type": "code",
   "execution_count": 15,
   "id": "d1ebb755",
   "metadata": {},
   "outputs": [
    {
     "data": {
      "text/plain": [
       "(15907, 12551, 3356)"
      ]
     },
     "execution_count": 15,
     "metadata": {},
     "output_type": "execute_result"
    }
   ],
   "source": [
    "\n",
    "\n",
    "# Check the number of rows before and after removing duplicates\n",
    "num_rows_before = employees.shape[0]\n",
    "num_rows_after = employee_counts_deduplicated.shape[0]\n",
    "num_duplicates_removed = num_rows_before - num_rows_after\n",
    "\n",
    "num_rows_before, num_rows_after, num_duplicates_removed\n"
   ]
  },
  {
   "cell_type": "code",
   "execution_count": 16,
   "id": "fbcc04d2",
   "metadata": {},
   "outputs": [
    {
     "data": {
      "text/plain": [
       "(12551, 4)"
      ]
     },
     "execution_count": 16,
     "metadata": {},
     "output_type": "execute_result"
    }
   ],
   "source": [
    "employee_counts_deduplicated.shape"
   ]
  },
  {
   "cell_type": "code",
   "execution_count": 18,
   "id": "389f5f07",
   "metadata": {
    "scrolled": true
   },
   "outputs": [
    {
     "data": {
      "text/html": [
       "<div>\n",
       "<style scoped>\n",
       "    .dataframe tbody tr th:only-of-type {\n",
       "        vertical-align: middle;\n",
       "    }\n",
       "\n",
       "    .dataframe tbody tr th {\n",
       "        vertical-align: top;\n",
       "    }\n",
       "\n",
       "    .dataframe thead th {\n",
       "        text-align: right;\n",
       "    }\n",
       "</style>\n",
       "<table border=\"1\" class=\"dataframe\">\n",
       "  <thead>\n",
       "    <tr style=\"text-align: right;\">\n",
       "      <th></th>\n",
       "      <th>Unnamed: 0</th>\n",
       "      <th>job_id</th>\n",
       "      <th>company_id</th>\n",
       "      <th>title</th>\n",
       "      <th>description</th>\n",
       "      <th>max_salary</th>\n",
       "      <th>min_salary</th>\n",
       "      <th>pay_period</th>\n",
       "      <th>formatted_work_type</th>\n",
       "      <th>applies</th>\n",
       "      <th>...</th>\n",
       "      <th>job_location_state</th>\n",
       "      <th>industry</th>\n",
       "      <th>company_name</th>\n",
       "      <th>company_size</th>\n",
       "      <th>company_location_city</th>\n",
       "      <th>company_location_country</th>\n",
       "      <th>company_location_state</th>\n",
       "      <th>employee_count</th>\n",
       "      <th>follower_count</th>\n",
       "      <th>time_recorded</th>\n",
       "    </tr>\n",
       "  </thead>\n",
       "  <tbody>\n",
       "    <tr>\n",
       "      <th>0</th>\n",
       "      <td>0</td>\n",
       "      <td>133114754</td>\n",
       "      <td>77766802.0</td>\n",
       "      <td>Sales Manager</td>\n",
       "      <td>Are you a dynamic and creative marketing profe...</td>\n",
       "      <td>NaN</td>\n",
       "      <td>NaN</td>\n",
       "      <td>NaN</td>\n",
       "      <td>Full-time</td>\n",
       "      <td>NaN</td>\n",
       "      <td>...</td>\n",
       "      <td>California</td>\n",
       "      <td>Transportation/Trucking/Railroad</td>\n",
       "      <td>CargoLogin.</td>\n",
       "      <td>1.0</td>\n",
       "      <td>Santa Clarita</td>\n",
       "      <td>United States</td>\n",
       "      <td>California</td>\n",
       "      <td>15</td>\n",
       "      <td>159</td>\n",
       "      <td>1.692835e+09</td>\n",
       "    </tr>\n",
       "    <tr>\n",
       "      <th>1</th>\n",
       "      <td>1</td>\n",
       "      <td>133196985</td>\n",
       "      <td>1089558.0</td>\n",
       "      <td>Model Risk Auditor</td>\n",
       "      <td>Join Us as a Model Risk Auditor – Showcase You...</td>\n",
       "      <td>NaN</td>\n",
       "      <td>NaN</td>\n",
       "      <td>NaN</td>\n",
       "      <td>Contract</td>\n",
       "      <td>1.0</td>\n",
       "      <td>...</td>\n",
       "      <td>New York</td>\n",
       "      <td>Staffing &amp; Recruiting</td>\n",
       "      <td>Employvision Inc.</td>\n",
       "      <td>1.0</td>\n",
       "      <td>Somerset</td>\n",
       "      <td>United States</td>\n",
       "      <td>New Jersey</td>\n",
       "      <td>48</td>\n",
       "      <td>14476</td>\n",
       "      <td>1.692772e+09</td>\n",
       "    </tr>\n",
       "    <tr>\n",
       "      <th>2</th>\n",
       "      <td>2</td>\n",
       "      <td>381055942</td>\n",
       "      <td>96654609.0</td>\n",
       "      <td>Business Manager</td>\n",
       "      <td>Business ManagerFirst Baptist Church ForneyFor...</td>\n",
       "      <td>NaN</td>\n",
       "      <td>NaN</td>\n",
       "      <td>NaN</td>\n",
       "      <td>Full-time</td>\n",
       "      <td>NaN</td>\n",
       "      <td>...</td>\n",
       "      <td>Texas</td>\n",
       "      <td>Religious Institutions</td>\n",
       "      <td>First Baptist Church Forney</td>\n",
       "      <td>2.0</td>\n",
       "      <td>Forney</td>\n",
       "      <td>United States</td>\n",
       "      <td>Texas</td>\n",
       "      <td>0</td>\n",
       "      <td>0</td>\n",
       "      <td>1.692832e+09</td>\n",
       "    </tr>\n",
       "    <tr>\n",
       "      <th>3</th>\n",
       "      <td>3</td>\n",
       "      <td>529257371</td>\n",
       "      <td>1244539.0</td>\n",
       "      <td>NY Studio Assistant</td>\n",
       "      <td>YOU COULD BE ONE OF THE MAGIC MAKERS\\nKen Fulk...</td>\n",
       "      <td>NaN</td>\n",
       "      <td>NaN</td>\n",
       "      <td>NaN</td>\n",
       "      <td>Full-time</td>\n",
       "      <td>NaN</td>\n",
       "      <td>...</td>\n",
       "      <td>New York</td>\n",
       "      <td>Design</td>\n",
       "      <td>Ken Fulk Inc</td>\n",
       "      <td>1.0</td>\n",
       "      <td>San Francisco</td>\n",
       "      <td>United States</td>\n",
       "      <td>California</td>\n",
       "      <td>87</td>\n",
       "      <td>9790</td>\n",
       "      <td>1.692868e+09</td>\n",
       "    </tr>\n",
       "    <tr>\n",
       "      <th>4</th>\n",
       "      <td>4</td>\n",
       "      <td>903408693</td>\n",
       "      <td>3894635.0</td>\n",
       "      <td>Office Associate</td>\n",
       "      <td>Provide clerical and administrative support to...</td>\n",
       "      <td>42000.0</td>\n",
       "      <td>37000.0</td>\n",
       "      <td>YEARLY</td>\n",
       "      <td>Full-time</td>\n",
       "      <td>5.0</td>\n",
       "      <td>...</td>\n",
       "      <td>Georgia</td>\n",
       "      <td>Retail</td>\n",
       "      <td>Sunnyland Farms</td>\n",
       "      <td>2.0</td>\n",
       "      <td>Albany</td>\n",
       "      <td>United States</td>\n",
       "      <td>Georgia</td>\n",
       "      <td>40</td>\n",
       "      <td>563</td>\n",
       "      <td>1.692772e+09</td>\n",
       "    </tr>\n",
       "  </tbody>\n",
       "</table>\n",
       "<p>5 rows × 32 columns</p>\n",
       "</div>"
      ],
      "text/plain": [
       "   Unnamed: 0     job_id  company_id                title  \\\n",
       "0           0  133114754  77766802.0        Sales Manager   \n",
       "1           1  133196985   1089558.0   Model Risk Auditor   \n",
       "2           2  381055942  96654609.0     Business Manager   \n",
       "3           3  529257371   1244539.0  NY Studio Assistant   \n",
       "4           4  903408693   3894635.0     Office Associate   \n",
       "\n",
       "                                         description  max_salary  min_salary  \\\n",
       "0  Are you a dynamic and creative marketing profe...         NaN         NaN   \n",
       "1  Join Us as a Model Risk Auditor – Showcase You...         NaN         NaN   \n",
       "2  Business ManagerFirst Baptist Church ForneyFor...         NaN         NaN   \n",
       "3  YOU COULD BE ONE OF THE MAGIC MAKERS\\nKen Fulk...         NaN         NaN   \n",
       "4  Provide clerical and administrative support to...     42000.0     37000.0   \n",
       "\n",
       "  pay_period formatted_work_type  applies  ...  job_location_state  \\\n",
       "0        NaN           Full-time      NaN  ...          California   \n",
       "1        NaN            Contract      1.0  ...            New York   \n",
       "2        NaN           Full-time      NaN  ...               Texas   \n",
       "3        NaN           Full-time      NaN  ...            New York   \n",
       "4     YEARLY           Full-time      5.0  ...             Georgia   \n",
       "\n",
       "                           industry                 company_name company_size  \\\n",
       "0  Transportation/Trucking/Railroad                  CargoLogin.          1.0   \n",
       "1             Staffing & Recruiting            Employvision Inc.          1.0   \n",
       "2            Religious Institutions  First Baptist Church Forney          2.0   \n",
       "3                            Design                 Ken Fulk Inc          1.0   \n",
       "4                            Retail              Sunnyland Farms          2.0   \n",
       "\n",
       "   company_location_city company_location_country  company_location_state  \\\n",
       "0          Santa Clarita            United States              California   \n",
       "1               Somerset            United States              New Jersey   \n",
       "2                 Forney            United States                   Texas   \n",
       "3          San Francisco            United States              California   \n",
       "4                 Albany            United States                 Georgia   \n",
       "\n",
       "   employee_count follower_count time_recorded  \n",
       "0              15            159  1.692835e+09  \n",
       "1              48          14476  1.692772e+09  \n",
       "2               0              0  1.692832e+09  \n",
       "3              87           9790  1.692868e+09  \n",
       "4              40            563  1.692772e+09  \n",
       "\n",
       "[5 rows x 32 columns]"
      ]
     },
     "execution_count": 18,
     "metadata": {},
     "output_type": "execute_result"
    }
   ],
   "source": [
    "\n",
    "# Merge the original dataset with the new dataset on 'company_id'\n",
    "merged_jobs_link = pd.merge(jobs_link1, employee_counts_deduplicated, on='company_id', how='left')\n",
    "\n",
    "# Check the first few rows of the merged dataset\n",
    "merged_jobs_link.head()\n"
   ]
  },
  {
   "cell_type": "code",
   "execution_count": 27,
   "id": "f57d6780",
   "metadata": {},
   "outputs": [
    {
     "name": "stdout",
     "output_type": "stream",
     "text": [
      "Missing values in 'views': 22255\n",
      "Total values in 'views': 123727\n",
      "Percentage of missing values in 'views': 17.99%\n"
     ]
    }
   ],
   "source": [
    "# Calculating the number of missing values in the 'views' column\n",
    "missing_values_views = merged_jobs_link['views'].isna().sum()\n",
    "\n",
    "# Calculate the total number of values in the 'views' column\n",
    "total_values_views = merged_jobs_link.shape[0]\n",
    "\n",
    "# Calculate the percentage of missing values\n",
    "percentage_missing_views = (missing_values_views / total_values_views) * 100\n",
    "\n",
    "print(f\"Missing values in 'views': {missing_values_views}\")\n",
    "print(f\"Total values in 'views': {total_values_views}\")\n",
    "print(f\"Percentage of missing values in 'views': {percentage_missing_views:.2f}%\")\n"
   ]
  },
  {
   "cell_type": "markdown",
   "id": "b8cd5826",
   "metadata": {},
   "source": [
    "#### Note: Subset Analysis needed, If the missing data is not random and imputation is not suitable, we could analyze the subset of data with complete cases. However, this may not be representative of the overall population."
   ]
  },
  {
   "cell_type": "code",
   "execution_count": 31,
   "id": "6fd742ce",
   "metadata": {},
   "outputs": [],
   "source": [
    "# creating a subset data\n",
    "data_jobs_link_non_missing_views = merged_jobs_link.dropna(subset=['views'])"
   ]
  },
  {
   "cell_type": "markdown",
   "id": "8d94c078",
   "metadata": {},
   "source": [
    "### Analyzing correlation between views and follower_counts\n",
    "#### Popular companies might get more views on their job postings simply due to brand recognition."
   ]
  },
  {
   "cell_type": "code",
   "execution_count": 32,
   "id": "ff6c19f9",
   "metadata": {},
   "outputs": [
    {
     "name": "stdout",
     "output_type": "stream",
     "text": [
      "float64\n",
      "int64\n"
     ]
    }
   ],
   "source": [
    "#checking data types\n",
    "print(data_jobs_link_non_missing_views['views'].dtype)\n",
    "print(data_jobs_link_non_missing_views['follower_count'].dtype)\n"
   ]
  },
  {
   "cell_type": "code",
   "execution_count": 33,
   "id": "88643b47",
   "metadata": {},
   "outputs": [
    {
     "name": "stdout",
     "output_type": "stream",
     "text": [
      "count    101472.000000\n",
      "mean         45.420254\n",
      "std          88.072326\n",
      "min           1.000000\n",
      "25%           5.000000\n",
      "50%          15.000000\n",
      "75%          47.000000\n",
      "max        1549.000000\n",
      "Name: views, dtype: float64\n",
      "count    1.014720e+05\n",
      "mean     3.898748e+06\n",
      "std      9.367818e+06\n",
      "min      0.000000e+00\n",
      "25%      2.845000e+04\n",
      "50%      2.655440e+05\n",
      "75%      1.712204e+06\n",
      "max      3.189121e+07\n",
      "Name: follower_count, dtype: float64\n"
     ]
    }
   ],
   "source": [
    "print(data_jobs_link_non_missing_views['views'].describe())\n",
    "print(data_jobs_link_non_missing_views['follower_count'].describe())\n"
   ]
  },
  {
   "cell_type": "markdown",
   "id": "8de5987d",
   "metadata": {},
   "source": [
    "### 3. Data preparation for regression analysis"
   ]
  },
  {
   "cell_type": "code",
   "execution_count": 34,
   "id": "3b16e6bf",
   "metadata": {},
   "outputs": [
    {
     "data": {
      "image/png": "[encoded data removed]",
      "text/plain": [
       "<Figure size 640x480 with 1 Axes>"
      ]
     },
     "metadata": {},
     "output_type": "display_data"
    }
   ],
   "source": [
    "# Creating a scatterplot using matplotlib for another look at how the chosen variables plot against each other.\n",
    "\n",
    "data_jobs_link_non_missing_views.plot(x = 'views', y='follower_count',style='o') # The style option creates a scatterplot; without it, we only have lines.\n",
    "plt.title('Job Views vs company linkedIn followers')  \n",
    "plt.xlabel('views')  \n",
    "plt.ylabel('follower_count')  \n",
    "plt.show()\n"
   ]
  },
  {
   "cell_type": "code",
   "execution_count": 35,
   "id": "0f0cc73e",
   "metadata": {},
   "outputs": [],
   "source": [
    "# Reshaping the variables into NumPy arrays and put them into separate objects.\n",
    "\n",
    "X = data_jobs_link_non_missing_views['views'].values.reshape(-1,1)\n",
    "y = data_jobs_link_non_missing_views['follower_count'].values.reshape(-1,1)"
   ]
  },
  {
   "cell_type": "code",
   "execution_count": 36,
   "id": "e52cce25",
   "metadata": {},
   "outputs": [
    {
     "data": {
      "text/plain": [
       "array([[17.],\n",
       "       [ 2.],\n",
       "       [49.],\n",
       "       ...,\n",
       "       [ 3.],\n",
       "       [10.],\n",
       "       [31.]])"
      ]
     },
     "execution_count": 36,
     "metadata": {},
     "output_type": "execute_result"
    }
   ],
   "source": [
    "X"
   ]
  },
  {
   "cell_type": "code",
   "execution_count": 37,
   "id": "a961e5d1",
   "metadata": {},
   "outputs": [
    {
     "data": {
      "text/plain": [
       "array([[14476],\n",
       "       [ 9790],\n",
       "       [  563],\n",
       "       ...,\n",
       "       [13632],\n",
       "       [58204],\n",
       "       [ 2982]])"
      ]
     },
     "execution_count": 37,
     "metadata": {},
     "output_type": "execute_result"
    }
   ],
   "source": [
    "y"
   ]
  },
  {
   "cell_type": "code",
   "execution_count": 38,
   "id": "0843ae01",
   "metadata": {},
   "outputs": [],
   "source": [
    "# Split data into a training set and a test set.\n",
    "\n",
    "X_train, X_test, y_train, y_test = train_test_split(X, y, test_size=0.3, random_state=0)"
   ]
  },
  {
   "cell_type": "code",
   "execution_count": 39,
   "id": "290474a6",
   "metadata": {},
   "outputs": [
    {
     "name": "stdout",
     "output_type": "stream",
     "text": [
      "MSE: 82413672781559.62\n",
      "R^2: 0.07465860481334241\n"
     ]
    }
   ],
   "source": [
    "# Initializing the model\n",
    "model = LinearRegression()\n",
    "\n",
    "# Fitting the model\n",
    "model.fit(X_train, y_train)\n",
    "\n",
    "# Predict on the test set\n",
    "y_pred = model.predict(X_test)\n",
    "\n",
    "# Calculate metrics\n",
    "mse = mean_squared_error(y_test, y_pred)\n",
    "r2 = r2_score(y_test, y_pred)\n",
    "\n",
    "print(f'MSE: {mse}')\n",
    "print(f'R^2: {r2}')"
   ]
  },
  {
   "cell_type": "markdown",
   "id": "23b345c1",
   "metadata": {},
   "source": [
    "A Mean Squared Error (MSE) of approximately \n",
    "8.24\n",
    "×\n",
    "1\n",
    "0\n",
    "13\n",
    "8.24×10 \n",
    "13\n",
    " . The MSE is very large, which suggests that the model's predictions are quite far off from the actual values. This could be due to the scale of the views variable, even after log transformation, or it could indicate that the model is not a good fit for the data.\n",
    "An \n",
    "R\n",
    "2\n",
    "R \n",
    "2\n",
    "  score of approximately 0.075. This value indicates that only about 7.5% of the variance in the views variable is explained by the follower_count. This is a low value, implying that follower_count alone is not a strong predictor of views."
   ]
  },
  {
   "cell_type": "markdown",
   "id": "119fb14e",
   "metadata": {},
   "source": [
    "### Exploring the relationship between applies and views"
   ]
  },
  {
   "cell_type": "code",
   "execution_count": 41,
   "id": "a7a4f8df",
   "metadata": {},
   "outputs": [],
   "source": [
    "# Removing rows with missing values in 'applies' and 'views'\n",
    "jobs_views_clean = merged_jobs_link.dropna(subset=['applies', 'views'])\n"
   ]
  },
  {
   "cell_type": "code",
   "execution_count": 42,
   "id": "bf06e859",
   "metadata": {},
   "outputs": [
    {
     "data": {
      "image/png": "[encoded data removed]",
      "text/plain": [
       "<Figure size 640x480 with 1 Axes>"
      ]
     },
     "metadata": {},
     "output_type": "display_data"
    }
   ],
   "source": [
    "# Scatter plot to visualize the relationship\n",
    "plt.scatter(jobs_views_clean['views'], jobs_views_clean['applies'], alpha=0.5)\n",
    "plt.title('Applies vs. Views')\n",
    "plt.xlabel('Views')\n",
    "plt.ylabel('Applies')\n",
    "plt.show()\n"
   ]
  },
  {
   "cell_type": "markdown",
   "id": "347ef97b",
   "metadata": {},
   "source": [
    " ####  Note: The outlier in our dataset is a real value and not due to any error, however  we need to evaluate how much the outlier will influence our analysis. If it has a significant effect on the regression line or summary statistics, we might consider using methods robust to outliers."
   ]
  },
  {
   "cell_type": "markdown",
   "id": "f6a8e6b7",
   "metadata": {},
   "source": [
    "#### 4. Regression analysis"
   ]
  },
  {
   "cell_type": "code",
   "execution_count": 49,
   "id": "2189b113",
   "metadata": {},
   "outputs": [],
   "source": [
    "# Reshaping the variables into NumPy arrays and put them into separate objects.\n",
    "\n",
    "X = jobs_views_clean['views'].values.reshape(-1,1)\n",
    "y = jobs_views_clean['applies'].values.reshape(-1,1)"
   ]
  },
  {
   "cell_type": "code",
   "execution_count": 50,
   "id": "d95ae9fb",
   "metadata": {},
   "outputs": [],
   "source": [
    "# Split data into a training set and a test set.\n",
    "\n",
    "X_train, X_test, y_train, y_test = train_test_split(X, y, test_size=0.3, random_state=0)"
   ]
  },
  {
   "cell_type": "code",
   "execution_count": 51,
   "id": "142895a3",
   "metadata": {
    "scrolled": true
   },
   "outputs": [
    {
     "name": "stdout",
     "output_type": "stream",
     "text": [
      "MSE: 193.7217083994335\n",
      "R^2: 0.7100792352864955\n"
     ]
    }
   ],
   "source": [
    "# Initializing the model\n",
    "model = LinearRegression()\n",
    "\n",
    "# Fitting the model\n",
    "model.fit(X_train, y_train)\n",
    "\n",
    "# Predict on the test set\n",
    "y_pred = model.predict(X_test)\n",
    "\n",
    "# Calculate metrics\n",
    "mse = mean_squared_error(y_test, y_pred)\n",
    "r2 = r2_score(y_test, y_pred)\n",
    "\n",
    "print(f'MSE: {mse}')\n",
    "print(f'R^2: {r2}')"
   ]
  },
  {
   "cell_type": "markdown",
   "id": "757493d2",
   "metadata": {},
   "source": [
    "#### NOTES: \n",
    "###### The Mean Squared Error (MSE) is now 193.72, which is much lower than the previous value. A lower MSE indicates that the model's predictions are closer to the actual data points.\n",
    "##### The R2 value is approximately 0.71, meaning that around 71% of the variance in the applies is explained by the views. This is a substantial improvement and suggests that the model has a good fit for the data."
   ]
  },
  {
   "cell_type": "code",
   "execution_count": 52,
   "id": "54dd87ea",
   "metadata": {},
   "outputs": [
    {
     "data": {
      "image/png": "[encoded data removed]",
      "text/plain": [
       "<Figure size 640x480 with 1 Axes>"
      ]
     },
     "metadata": {},
     "output_type": "display_data"
    }
   ],
   "source": [
    "# Creating a plot that shows the regression line from the model on the test set.\n",
    "\n",
    "plot_test = plt\n",
    "plot_test.scatter(X_test, y_test, color='gray', s = 15)\n",
    "plot_test.plot(X_test, y_pred, color='red', linewidth =3)\n",
    "plot_test.title('Job Applications vs job views on all industries')\n",
    "plot_test.xlabel('views')\n",
    "plot_test.ylabel('applies')\n",
    "plot_test.show()"
   ]
  },
  {
   "cell_type": "code",
   "execution_count": 54,
   "id": "1fcc15a3",
   "metadata": {},
   "outputs": [
    {
     "data": {
      "text/html": [
       "<div>\n",
       "<style scoped>\n",
       "    .dataframe tbody tr th:only-of-type {\n",
       "        vertical-align: middle;\n",
       "    }\n",
       "\n",
       "    .dataframe tbody tr th {\n",
       "        vertical-align: top;\n",
       "    }\n",
       "\n",
       "    .dataframe thead th {\n",
       "        text-align: right;\n",
       "    }\n",
       "</style>\n",
       "<table border=\"1\" class=\"dataframe\">\n",
       "  <thead>\n",
       "    <tr style=\"text-align: right;\">\n",
       "      <th></th>\n",
       "      <th>Actual</th>\n",
       "      <th>Predicted</th>\n",
       "    </tr>\n",
       "  </thead>\n",
       "  <tbody>\n",
       "    <tr>\n",
       "      <th>0</th>\n",
       "      <td>71.0</td>\n",
       "      <td>53.268327</td>\n",
       "    </tr>\n",
       "    <tr>\n",
       "      <th>1</th>\n",
       "      <td>3.0</td>\n",
       "      <td>18.699592</td>\n",
       "    </tr>\n",
       "    <tr>\n",
       "      <th>2</th>\n",
       "      <td>1.0</td>\n",
       "      <td>1.623469</td>\n",
       "    </tr>\n",
       "    <tr>\n",
       "      <th>3</th>\n",
       "      <td>21.0</td>\n",
       "      <td>22.656254</td>\n",
       "    </tr>\n",
       "    <tr>\n",
       "      <th>4</th>\n",
       "      <td>2.0</td>\n",
       "      <td>12.035739</td>\n",
       "    </tr>\n",
       "    <tr>\n",
       "      <th>5</th>\n",
       "      <td>1.0</td>\n",
       "      <td>-0.458985</td>\n",
       "    </tr>\n",
       "    <tr>\n",
       "      <th>6</th>\n",
       "      <td>67.0</td>\n",
       "      <td>39.940622</td>\n",
       "    </tr>\n",
       "    <tr>\n",
       "      <th>7</th>\n",
       "      <td>59.0</td>\n",
       "      <td>48.478683</td>\n",
       "    </tr>\n",
       "    <tr>\n",
       "      <th>8</th>\n",
       "      <td>38.0</td>\n",
       "      <td>33.068524</td>\n",
       "    </tr>\n",
       "    <tr>\n",
       "      <th>9</th>\n",
       "      <td>2.0</td>\n",
       "      <td>1.623469</td>\n",
       "    </tr>\n",
       "    <tr>\n",
       "      <th>10</th>\n",
       "      <td>80.0</td>\n",
       "      <td>53.893063</td>\n",
       "    </tr>\n",
       "    <tr>\n",
       "      <th>11</th>\n",
       "      <td>15.0</td>\n",
       "      <td>12.868720</td>\n",
       "    </tr>\n",
       "    <tr>\n",
       "      <th>12</th>\n",
       "      <td>1.0</td>\n",
       "      <td>3.289432</td>\n",
       "    </tr>\n",
       "    <tr>\n",
       "      <th>13</th>\n",
       "      <td>1.0</td>\n",
       "      <td>-0.250739</td>\n",
       "    </tr>\n",
       "    <tr>\n",
       "      <th>14</th>\n",
       "      <td>2.0</td>\n",
       "      <td>7.454340</td>\n",
       "    </tr>\n",
       "    <tr>\n",
       "      <th>15</th>\n",
       "      <td>5.0</td>\n",
       "      <td>7.246095</td>\n",
       "    </tr>\n",
       "    <tr>\n",
       "      <th>16</th>\n",
       "      <td>17.0</td>\n",
       "      <td>22.239763</td>\n",
       "    </tr>\n",
       "    <tr>\n",
       "      <th>17</th>\n",
       "      <td>25.0</td>\n",
       "      <td>23.280990</td>\n",
       "    </tr>\n",
       "    <tr>\n",
       "      <th>18</th>\n",
       "      <td>3.0</td>\n",
       "      <td>2.872942</td>\n",
       "    </tr>\n",
       "    <tr>\n",
       "      <th>19</th>\n",
       "      <td>1.0</td>\n",
       "      <td>-0.458985</td>\n",
       "    </tr>\n",
       "    <tr>\n",
       "      <th>20</th>\n",
       "      <td>2.0</td>\n",
       "      <td>2.456451</td>\n",
       "    </tr>\n",
       "    <tr>\n",
       "      <th>21</th>\n",
       "      <td>1.0</td>\n",
       "      <td>0.998733</td>\n",
       "    </tr>\n",
       "    <tr>\n",
       "      <th>22</th>\n",
       "      <td>39.0</td>\n",
       "      <td>23.489236</td>\n",
       "    </tr>\n",
       "    <tr>\n",
       "      <th>23</th>\n",
       "      <td>2.0</td>\n",
       "      <td>0.790488</td>\n",
       "    </tr>\n",
       "    <tr>\n",
       "      <th>24</th>\n",
       "      <td>1.0</td>\n",
       "      <td>0.998733</td>\n",
       "    </tr>\n",
       "    <tr>\n",
       "      <th>25</th>\n",
       "      <td>13.0</td>\n",
       "      <td>11.411003</td>\n",
       "    </tr>\n",
       "    <tr>\n",
       "      <th>26</th>\n",
       "      <td>2.0</td>\n",
       "      <td>0.373997</td>\n",
       "    </tr>\n",
       "    <tr>\n",
       "      <th>27</th>\n",
       "      <td>7.0</td>\n",
       "      <td>6.621359</td>\n",
       "    </tr>\n",
       "    <tr>\n",
       "      <th>28</th>\n",
       "      <td>4.0</td>\n",
       "      <td>7.662586</td>\n",
       "    </tr>\n",
       "    <tr>\n",
       "      <th>29</th>\n",
       "      <td>2.0</td>\n",
       "      <td>-0.250739</td>\n",
       "    </tr>\n",
       "  </tbody>\n",
       "</table>\n",
       "</div>"
      ],
      "text/plain": [
       "    Actual  Predicted\n",
       "0     71.0  53.268327\n",
       "1      3.0  18.699592\n",
       "2      1.0   1.623469\n",
       "3     21.0  22.656254\n",
       "4      2.0  12.035739\n",
       "5      1.0  -0.458985\n",
       "6     67.0  39.940622\n",
       "7     59.0  48.478683\n",
       "8     38.0  33.068524\n",
       "9      2.0   1.623469\n",
       "10    80.0  53.893063\n",
       "11    15.0  12.868720\n",
       "12     1.0   3.289432\n",
       "13     1.0  -0.250739\n",
       "14     2.0   7.454340\n",
       "15     5.0   7.246095\n",
       "16    17.0  22.239763\n",
       "17    25.0  23.280990\n",
       "18     3.0   2.872942\n",
       "19     1.0  -0.458985\n",
       "20     2.0   2.456451\n",
       "21     1.0   0.998733\n",
       "22    39.0  23.489236\n",
       "23     2.0   0.790488\n",
       "24     1.0   0.998733\n",
       "25    13.0  11.411003\n",
       "26     2.0   0.373997\n",
       "27     7.0   6.621359\n",
       "28     4.0   7.662586\n",
       "29     2.0  -0.250739"
      ]
     },
     "execution_count": 54,
     "metadata": {},
     "output_type": "execute_result"
    }
   ],
   "source": [
    "# Create a dataframe comparing the actual and predicted values of y.\n",
    "\n",
    "data1 = pd.DataFrame({'Actual': y_test.flatten(), 'Predicted': y_pred.flatten()})\n",
    "data1.head(30)"
   ]
  },
  {
   "cell_type": "code",
   "execution_count": 60,
   "id": "ad52bdc9",
   "metadata": {},
   "outputs": [],
   "source": [
    "#exporting dataframe to csv.\n",
    "\n",
    "merged_jobs_link.to_csv(os.path.join(path, 'DATA','CLEAN DATA', 'merged_jobs_link.csv'))"
   ]
  },
  {
   "cell_type": "markdown",
   "id": "87fb3a79",
   "metadata": {},
   "source": [
    "### Exploring the relationship between applies and views (IT industry)"
   ]
  },
  {
   "cell_type": "code",
   "execution_count": 65,
   "id": "b82a8f40",
   "metadata": {},
   "outputs": [],
   "source": [
    "# Filter the DataFrame\n",
    "filtered_jobs_link = merged_jobs_link[\n",
    "    (merged_jobs_link['industry'] == 'Information Technology & Services') & \n",
    "    merged_jobs_link['applies'].notnull() & \n",
    "    merged_jobs_link['views'].notnull()\n",
    "]\n",
    "\n"
   ]
  },
  {
   "cell_type": "code",
   "execution_count": 66,
   "id": "fc67ebf7",
   "metadata": {},
   "outputs": [
    {
     "data": {
      "text/html": [
       "<div>\n",
       "<style scoped>\n",
       "    .dataframe tbody tr th:only-of-type {\n",
       "        vertical-align: middle;\n",
       "    }\n",
       "\n",
       "    .dataframe tbody tr th {\n",
       "        vertical-align: top;\n",
       "    }\n",
       "\n",
       "    .dataframe thead th {\n",
       "        text-align: right;\n",
       "    }\n",
       "</style>\n",
       "<table border=\"1\" class=\"dataframe\">\n",
       "  <thead>\n",
       "    <tr style=\"text-align: right;\">\n",
       "      <th></th>\n",
       "      <th>Unnamed: 0</th>\n",
       "      <th>job_id</th>\n",
       "      <th>company_id</th>\n",
       "      <th>title</th>\n",
       "      <th>description</th>\n",
       "      <th>max_salary</th>\n",
       "      <th>min_salary</th>\n",
       "      <th>pay_period</th>\n",
       "      <th>formatted_work_type</th>\n",
       "      <th>applies</th>\n",
       "      <th>...</th>\n",
       "      <th>job_location_state</th>\n",
       "      <th>industry</th>\n",
       "      <th>company_name</th>\n",
       "      <th>company_size</th>\n",
       "      <th>company_location_city</th>\n",
       "      <th>company_location_country</th>\n",
       "      <th>company_location_state</th>\n",
       "      <th>employee_count</th>\n",
       "      <th>follower_count</th>\n",
       "      <th>time_recorded</th>\n",
       "    </tr>\n",
       "  </thead>\n",
       "  <tbody>\n",
       "    <tr>\n",
       "      <th>143</th>\n",
       "      <td>39</td>\n",
       "      <td>3497509795</td>\n",
       "      <td>10033339.0</td>\n",
       "      <td>Senior Programmer/Analyst</td>\n",
       "      <td>Job descriptioni5 Technology Group is seeking ...</td>\n",
       "      <td>NaN</td>\n",
       "      <td>NaN</td>\n",
       "      <td>NaN</td>\n",
       "      <td>Full-time</td>\n",
       "      <td>2.0</td>\n",
       "      <td>...</td>\n",
       "      <td>Maryland</td>\n",
       "      <td>Information Technology &amp; Services</td>\n",
       "      <td>NaN</td>\n",
       "      <td>NaN</td>\n",
       "      <td>NaN</td>\n",
       "      <td>NaN</td>\n",
       "      <td>NaN</td>\n",
       "      <td>3</td>\n",
       "      <td>187</td>\n",
       "      <td>1.692645e+09</td>\n",
       "    </tr>\n",
       "    <tr>\n",
       "      <th>179</th>\n",
       "      <td>64</td>\n",
       "      <td>3655655364</td>\n",
       "      <td>82884837.0</td>\n",
       "      <td>POWER BI</td>\n",
       "      <td>Hi Everyone....!Job Description:Job Title: Sr ...</td>\n",
       "      <td>NaN</td>\n",
       "      <td>NaN</td>\n",
       "      <td>NaN</td>\n",
       "      <td>Contract</td>\n",
       "      <td>52.0</td>\n",
       "      <td>...</td>\n",
       "      <td>Texas</td>\n",
       "      <td>Information Technology &amp; Services</td>\n",
       "      <td>COD CORES</td>\n",
       "      <td>2.0</td>\n",
       "      <td>Farmers Branch</td>\n",
       "      <td>United States</td>\n",
       "      <td>Texas</td>\n",
       "      <td>45</td>\n",
       "      <td>6539</td>\n",
       "      <td>1.692773e+09</td>\n",
       "    </tr>\n",
       "    <tr>\n",
       "      <th>184</th>\n",
       "      <td>69</td>\n",
       "      <td>3673294109</td>\n",
       "      <td>750072.0</td>\n",
       "      <td>Quality Analyst</td>\n",
       "      <td>\\nTitle: Quality Technician Client :- Cyient L...</td>\n",
       "      <td>60000.0</td>\n",
       "      <td>50000.0</td>\n",
       "      <td>YEARLY</td>\n",
       "      <td>Full-time</td>\n",
       "      <td>7.0</td>\n",
       "      <td>...</td>\n",
       "      <td>California</td>\n",
       "      <td>Information Technology &amp; Services</td>\n",
       "      <td>E-Solutions</td>\n",
       "      <td>5.0</td>\n",
       "      <td>San Jose</td>\n",
       "      <td>United States</td>\n",
       "      <td>California</td>\n",
       "      <td>1471</td>\n",
       "      <td>157212</td>\n",
       "      <td>1.692773e+09</td>\n",
       "    </tr>\n",
       "    <tr>\n",
       "      <th>185</th>\n",
       "      <td>69</td>\n",
       "      <td>3673294109</td>\n",
       "      <td>750072.0</td>\n",
       "      <td>Quality Analyst</td>\n",
       "      <td>\\nTitle: Quality Technician Client :- Cyient L...</td>\n",
       "      <td>60000.0</td>\n",
       "      <td>50000.0</td>\n",
       "      <td>YEARLY</td>\n",
       "      <td>Full-time</td>\n",
       "      <td>7.0</td>\n",
       "      <td>...</td>\n",
       "      <td>California</td>\n",
       "      <td>Information Technology &amp; Services</td>\n",
       "      <td>E-Solutions</td>\n",
       "      <td>5.0</td>\n",
       "      <td>San Jose</td>\n",
       "      <td>United States</td>\n",
       "      <td>California</td>\n",
       "      <td>1471</td>\n",
       "      <td>157427</td>\n",
       "      <td>1.692818e+09</td>\n",
       "    </tr>\n",
       "    <tr>\n",
       "      <th>186</th>\n",
       "      <td>69</td>\n",
       "      <td>3673294109</td>\n",
       "      <td>750072.0</td>\n",
       "      <td>Quality Analyst</td>\n",
       "      <td>\\nTitle: Quality Technician Client :- Cyient L...</td>\n",
       "      <td>60000.0</td>\n",
       "      <td>50000.0</td>\n",
       "      <td>YEARLY</td>\n",
       "      <td>Full-time</td>\n",
       "      <td>7.0</td>\n",
       "      <td>...</td>\n",
       "      <td>California</td>\n",
       "      <td>Information Technology &amp; Services</td>\n",
       "      <td>E-Solutions</td>\n",
       "      <td>5.0</td>\n",
       "      <td>San Jose</td>\n",
       "      <td>United States</td>\n",
       "      <td>California</td>\n",
       "      <td>1471</td>\n",
       "      <td>157541</td>\n",
       "      <td>1.692831e+09</td>\n",
       "    </tr>\n",
       "  </tbody>\n",
       "</table>\n",
       "<p>5 rows × 32 columns</p>\n",
       "</div>"
      ],
      "text/plain": [
       "     Unnamed: 0      job_id  company_id                      title  \\\n",
       "143          39  3497509795  10033339.0  Senior Programmer/Analyst   \n",
       "179          64  3655655364  82884837.0                   POWER BI   \n",
       "184          69  3673294109    750072.0            Quality Analyst   \n",
       "185          69  3673294109    750072.0            Quality Analyst   \n",
       "186          69  3673294109    750072.0            Quality Analyst   \n",
       "\n",
       "                                           description  max_salary  \\\n",
       "143  Job descriptioni5 Technology Group is seeking ...         NaN   \n",
       "179  Hi Everyone....!Job Description:Job Title: Sr ...         NaN   \n",
       "184  \\nTitle: Quality Technician Client :- Cyient L...     60000.0   \n",
       "185  \\nTitle: Quality Technician Client :- Cyient L...     60000.0   \n",
       "186  \\nTitle: Quality Technician Client :- Cyient L...     60000.0   \n",
       "\n",
       "     min_salary pay_period formatted_work_type  applies  ...  \\\n",
       "143         NaN        NaN           Full-time      2.0  ...   \n",
       "179         NaN        NaN            Contract     52.0  ...   \n",
       "184     50000.0     YEARLY           Full-time      7.0  ...   \n",
       "185     50000.0     YEARLY           Full-time      7.0  ...   \n",
       "186     50000.0     YEARLY           Full-time      7.0  ...   \n",
       "\n",
       "     job_location_state                           industry  company_name  \\\n",
       "143            Maryland  Information Technology & Services           NaN   \n",
       "179               Texas  Information Technology & Services     COD CORES   \n",
       "184          California  Information Technology & Services   E-Solutions   \n",
       "185          California  Information Technology & Services   E-Solutions   \n",
       "186          California  Information Technology & Services   E-Solutions   \n",
       "\n",
       "    company_size  company_location_city company_location_country  \\\n",
       "143          NaN                    NaN                      NaN   \n",
       "179          2.0         Farmers Branch            United States   \n",
       "184          5.0               San Jose            United States   \n",
       "185          5.0               San Jose            United States   \n",
       "186          5.0               San Jose            United States   \n",
       "\n",
       "     company_location_state  employee_count follower_count time_recorded  \n",
       "143                     NaN               3            187  1.692645e+09  \n",
       "179                   Texas              45           6539  1.692773e+09  \n",
       "184              California            1471         157212  1.692773e+09  \n",
       "185              California            1471         157427  1.692818e+09  \n",
       "186              California            1471         157541  1.692831e+09  \n",
       "\n",
       "[5 rows x 32 columns]"
      ]
     },
     "execution_count": 66,
     "metadata": {},
     "output_type": "execute_result"
    }
   ],
   "source": [
    "filtered_jobs_link.head()"
   ]
  },
  {
   "cell_type": "code",
   "execution_count": 67,
   "id": "552a6f80",
   "metadata": {},
   "outputs": [
    {
     "data": {
      "image/png": "[encoded data removed]",
      "text/plain": [
       "<Figure size 640x480 with 1 Axes>"
      ]
     },
     "metadata": {},
     "output_type": "display_data"
    }
   ],
   "source": [
    "# Creating a scatterplot using matplotlib for another look at how the chosen variables plot against each other.\n",
    "\n",
    "filtered_jobs_link.plot(x = 'views', y='applies',style='o') \n",
    "plt.title('Job applications vs job views on the IT industry')  \n",
    "plt.xlabel('views')  \n",
    "plt.ylabel('applies')  \n",
    "plt.show()"
   ]
  },
  {
   "cell_type": "code",
   "execution_count": 68,
   "id": "4ceb4a40",
   "metadata": {},
   "outputs": [],
   "source": [
    "# Reshape the variables into NumPy arrays and put them into separate objects.\n",
    "\n",
    "X = filtered_jobs_link['views'].values.reshape(-1,1)\n",
    "y = filtered_jobs_link['applies'].values.reshape(-1,1)"
   ]
  },
  {
   "cell_type": "code",
   "execution_count": 69,
   "id": "ff0b9bc4",
   "metadata": {},
   "outputs": [],
   "source": [
    "# Splitting  data into a training set and a test set.\n",
    "\n",
    "X_train, X_test, y_train, y_test = train_test_split(X, y, test_size=0.3, random_state=0)"
   ]
  },
  {
   "cell_type": "markdown",
   "id": "6b6d88d4",
   "metadata": {},
   "source": [
    "#### Ready for regression analysis"
   ]
  },
  {
   "cell_type": "code",
   "execution_count": 70,
   "id": "47e9b304",
   "metadata": {},
   "outputs": [],
   "source": [
    "# Create a regression object.\n",
    "\n",
    "regression = LinearRegression()"
   ]
  },
  {
   "cell_type": "code",
   "execution_count": 71,
   "id": "da1315a4",
   "metadata": {},
   "outputs": [
    {
     "data": {
      "text/html": [
       "<style>#sk-container-id-1 {color: black;}#sk-container-id-1 pre{padding: 0;}#sk-container-id-1 div.sk-toggleable {background-color: white;}#sk-container-id-1 label.sk-toggleable__label {cursor: pointer;display: block;width: 100%;margin-bottom: 0;padding: 0.3em;box-sizing: border-box;text-align: center;}#sk-container-id-1 label.sk-toggleable__label-arrow:before {content: \"▸\";float: left;margin-right: 0.25em;color: #696969;}#sk-container-id-1 label.sk-toggleable__label-arrow:hover:before {color: black;}#sk-container-id-1 div.sk-estimator:hover label.sk-toggleable__label-arrow:before {color: black;}#sk-container-id-1 div.sk-toggleable__content {max-height: 0;max-width: 0;overflow: hidden;text-align: left;background-color: #f0f8ff;}#sk-container-id-1 div.sk-toggleable__content pre {margin: 0.2em;color: black;border-radius: 0.25em;background-color: #f0f8ff;}#sk-container-id-1 input.sk-toggleable__control:checked~div.sk-toggleable__content {max-height: 200px;max-width: 100%;overflow: auto;}#sk-container-id-1 input.sk-toggleable__control:checked~label.sk-toggleable__label-arrow:before {content: \"▾\";}#sk-container-id-1 div.sk-estimator input.sk-toggleable__control:checked~label.sk-toggleable__label {background-color: #d4ebff;}#sk-container-id-1 div.sk-label input.sk-toggleable__control:checked~label.sk-toggleable__label {background-color: #d4ebff;}#sk-container-id-1 input.sk-hidden--visually {border: 0;clip: rect(1px 1px 1px 1px);clip: rect(1px, 1px, 1px, 1px);height: 1px;margin: -1px;overflow: hidden;padding: 0;position: absolute;width: 1px;}#sk-container-id-1 div.sk-estimator {font-family: monospace;background-color: #f0f8ff;border: 1px dotted black;border-radius: 0.25em;box-sizing: border-box;margin-bottom: 0.5em;}#sk-container-id-1 div.sk-estimator:hover {background-color: #d4ebff;}#sk-container-id-1 div.sk-parallel-item::after {content: \"\";width: 100%;border-bottom: 1px solid gray;flex-grow: 1;}#sk-container-id-1 div.sk-label:hover label.sk-toggleable__label {background-color: #d4ebff;}#sk-container-id-1 div.sk-serial::before {content: \"\";position: absolute;border-left: 1px solid gray;box-sizing: border-box;top: 0;bottom: 0;left: 50%;z-index: 0;}#sk-container-id-1 div.sk-serial {display: flex;flex-direction: column;align-items: center;background-color: white;padding-right: 0.2em;padding-left: 0.2em;position: relative;}#sk-container-id-1 div.sk-item {position: relative;z-index: 1;}#sk-container-id-1 div.sk-parallel {display: flex;align-items: stretch;justify-content: center;background-color: white;position: relative;}#sk-container-id-1 div.sk-item::before, #sk-container-id-1 div.sk-parallel-item::before {content: \"\";position: absolute;border-left: 1px solid gray;box-sizing: border-box;top: 0;bottom: 0;left: 50%;z-index: -1;}#sk-container-id-1 div.sk-parallel-item {display: flex;flex-direction: column;z-index: 1;position: relative;background-color: white;}#sk-container-id-1 div.sk-parallel-item:first-child::after {align-self: flex-end;width: 50%;}#sk-container-id-1 div.sk-parallel-item:last-child::after {align-self: flex-start;width: 50%;}#sk-container-id-1 div.sk-parallel-item:only-child::after {width: 0;}#sk-container-id-1 div.sk-dashed-wrapped {border: 1px dashed gray;margin: 0 0.4em 0.5em 0.4em;box-sizing: border-box;padding-bottom: 0.4em;background-color: white;}#sk-container-id-1 div.sk-label label {font-family: monospace;font-weight: bold;display: inline-block;line-height: 1.2em;}#sk-container-id-1 div.sk-label-container {text-align: center;}#sk-container-id-1 div.sk-container {/* jupyter's `normalize.less` sets `[hidden] { display: none; }` but bootstrap.min.css set `[hidden] { display: none !important; }` so we also need the `!important` here to be able to override the default hidden behavior on the sphinx rendered scikit-learn.org. See: https://github.com/scikit-learn/scikit-learn/issues/21755 */display: inline-block !important;position: relative;}#sk-container-id-1 div.sk-text-repr-fallback {display: none;}</style><div id=\"sk-container-id-1\" class=\"sk-top-container\"><div class=\"sk-text-repr-fallback\"><pre>LinearRegression()</pre><b>In a Jupyter environment, please rerun this cell to show the HTML representation or trust the notebook. <br />On GitHub, the HTML representation is unable to render, please try loading this page with nbviewer.org.</b></div><div class=\"sk-container\" hidden><div class=\"sk-item\"><div class=\"sk-estimator sk-toggleable\"><input class=\"sk-toggleable__control sk-hidden--visually\" id=\"sk-estimator-id-1\" type=\"checkbox\" checked><label for=\"sk-estimator-id-1\" class=\"sk-toggleable__label sk-toggleable__label-arrow\">LinearRegression</label><div class=\"sk-toggleable__content\"><pre>LinearRegression()</pre></div></div></div></div></div>"
      ],
      "text/plain": [
       "LinearRegression()"
      ]
     },
     "execution_count": 71,
     "metadata": {},
     "output_type": "execute_result"
    }
   ],
   "source": [
    "# Fitting the regression object onto the training set.\n",
    "\n",
    "regression.fit(X_train, y_train)"
   ]
  },
  {
   "cell_type": "code",
   "execution_count": 72,
   "id": "63d50e9d",
   "metadata": {},
   "outputs": [],
   "source": [
    "# Predicting the values of y using X.\n",
    "\n",
    "y_pred = regression.predict(X_test)"
   ]
  },
  {
   "cell_type": "code",
   "execution_count": 73,
   "id": "93b3857a",
   "metadata": {},
   "outputs": [
    {
     "data": {
      "image/png": "[encoded data removed]",
      "text/plain": [
       "<Figure size 640x480 with 1 Axes>"
      ]
     },
     "metadata": {},
     "output_type": "display_data"
    }
   ],
   "source": [
    "# Creating a plot that shows the regression line from the model on the test set.\n",
    "\n",
    "plot_test = plt\n",
    "plot_test.scatter(X_test, y_test, color='gray', s = 15)\n",
    "plot_test.plot(X_test, y_pred, color='red', linewidth =3)\n",
    "plot_test.title('Job applications vs job views on the IT industry(Test set)')\n",
    "plot_test.xlabel('job views')\n",
    "plot_test.ylabel('job applications')\n",
    "plot_test.show()"
   ]
  },
  {
   "cell_type": "code",
   "execution_count": 75,
   "id": "ed4fb6a4",
   "metadata": {},
   "outputs": [],
   "source": [
    "# Creating objects that contain the model summary statistics.\n",
    "\n",
    "rmse = mean_squared_error(y_test, y_pred) \n",
    "r2 = r2_score(y_test, y_pred) "
   ]
  },
  {
   "cell_type": "code",
   "execution_count": 76,
   "id": "e0ec26d3",
   "metadata": {},
   "outputs": [
    {
     "name": "stdout",
     "output_type": "stream",
     "text": [
      "Slope: [[0.2460281]]\n",
      "Mean squared error:  221.19499850595992\n",
      "R2 score:  0.5958244629446028\n"
     ]
    }
   ],
   "source": [
    "# Printing the model summary statistics.\n",
    "\n",
    "print('Slope:' ,regression.coef_)\n",
    "print('Mean squared error: ', rmse)\n",
    "print('R2 score: ', r2)"
   ]
  },
  {
   "cell_type": "code",
   "execution_count": 78,
   "id": "75319604",
   "metadata": {},
   "outputs": [
    {
     "data": {
      "text/html": [
       "<div>\n",
       "<style scoped>\n",
       "    .dataframe tbody tr th:only-of-type {\n",
       "        vertical-align: middle;\n",
       "    }\n",
       "\n",
       "    .dataframe tbody tr th {\n",
       "        vertical-align: top;\n",
       "    }\n",
       "\n",
       "    .dataframe thead th {\n",
       "        text-align: right;\n",
       "    }\n",
       "</style>\n",
       "<table border=\"1\" class=\"dataframe\">\n",
       "  <thead>\n",
       "    <tr style=\"text-align: right;\">\n",
       "      <th></th>\n",
       "      <th>Actual</th>\n",
       "      <th>Predicted</th>\n",
       "    </tr>\n",
       "  </thead>\n",
       "  <tbody>\n",
       "    <tr>\n",
       "      <th>0</th>\n",
       "      <td>21.0</td>\n",
       "      <td>62.617722</td>\n",
       "    </tr>\n",
       "    <tr>\n",
       "      <th>1</th>\n",
       "      <td>3.0</td>\n",
       "      <td>0.372611</td>\n",
       "    </tr>\n",
       "    <tr>\n",
       "      <th>2</th>\n",
       "      <td>13.0</td>\n",
       "      <td>17.102522</td>\n",
       "    </tr>\n",
       "    <tr>\n",
       "      <th>3</th>\n",
       "      <td>1.0</td>\n",
       "      <td>0.126583</td>\n",
       "    </tr>\n",
       "    <tr>\n",
       "      <th>4</th>\n",
       "      <td>32.0</td>\n",
       "      <td>27.681731</td>\n",
       "    </tr>\n",
       "    <tr>\n",
       "      <th>5</th>\n",
       "      <td>4.0</td>\n",
       "      <td>2.340836</td>\n",
       "    </tr>\n",
       "    <tr>\n",
       "      <th>6</th>\n",
       "      <td>19.0</td>\n",
       "      <td>29.649956</td>\n",
       "    </tr>\n",
       "    <tr>\n",
       "      <th>7</th>\n",
       "      <td>27.0</td>\n",
       "      <td>28.911871</td>\n",
       "    </tr>\n",
       "    <tr>\n",
       "      <th>8</th>\n",
       "      <td>55.0</td>\n",
       "      <td>46.625895</td>\n",
       "    </tr>\n",
       "    <tr>\n",
       "      <th>9</th>\n",
       "      <td>5.0</td>\n",
       "      <td>3.817005</td>\n",
       "    </tr>\n",
       "    <tr>\n",
       "      <th>10</th>\n",
       "      <td>1.0</td>\n",
       "      <td>2.586864</td>\n",
       "    </tr>\n",
       "    <tr>\n",
       "      <th>11</th>\n",
       "      <td>8.0</td>\n",
       "      <td>21.531028</td>\n",
       "    </tr>\n",
       "    <tr>\n",
       "      <th>12</th>\n",
       "      <td>19.0</td>\n",
       "      <td>13.166073</td>\n",
       "    </tr>\n",
       "    <tr>\n",
       "      <th>13</th>\n",
       "      <td>4.0</td>\n",
       "      <td>4.309061</td>\n",
       "    </tr>\n",
       "    <tr>\n",
       "      <th>14</th>\n",
       "      <td>2.0</td>\n",
       "      <td>0.372611</td>\n",
       "    </tr>\n",
       "    <tr>\n",
       "      <th>15</th>\n",
       "      <td>3.0</td>\n",
       "      <td>13.166073</td>\n",
       "    </tr>\n",
       "    <tr>\n",
       "      <th>16</th>\n",
       "      <td>9.0</td>\n",
       "      <td>23.499253</td>\n",
       "    </tr>\n",
       "    <tr>\n",
       "      <th>17</th>\n",
       "      <td>3.0</td>\n",
       "      <td>21.038972</td>\n",
       "    </tr>\n",
       "    <tr>\n",
       "      <th>18</th>\n",
       "      <td>2.0</td>\n",
       "      <td>4.309061</td>\n",
       "    </tr>\n",
       "    <tr>\n",
       "      <th>19</th>\n",
       "      <td>40.0</td>\n",
       "      <td>41.459305</td>\n",
       "    </tr>\n",
       "    <tr>\n",
       "      <th>20</th>\n",
       "      <td>3.0</td>\n",
       "      <td>3.817005</td>\n",
       "    </tr>\n",
       "    <tr>\n",
       "      <th>21</th>\n",
       "      <td>10.0</td>\n",
       "      <td>7.015370</td>\n",
       "    </tr>\n",
       "    <tr>\n",
       "      <th>22</th>\n",
       "      <td>2.0</td>\n",
       "      <td>-0.611501</td>\n",
       "    </tr>\n",
       "    <tr>\n",
       "      <th>23</th>\n",
       "      <td>5.0</td>\n",
       "      <td>5.539202</td>\n",
       "    </tr>\n",
       "    <tr>\n",
       "      <th>24</th>\n",
       "      <td>1.0</td>\n",
       "      <td>0.618640</td>\n",
       "    </tr>\n",
       "    <tr>\n",
       "      <th>25</th>\n",
       "      <td>6.0</td>\n",
       "      <td>15.134298</td>\n",
       "    </tr>\n",
       "    <tr>\n",
       "      <th>26</th>\n",
       "      <td>1.0</td>\n",
       "      <td>-0.611501</td>\n",
       "    </tr>\n",
       "    <tr>\n",
       "      <th>27</th>\n",
       "      <td>3.0</td>\n",
       "      <td>-0.611501</td>\n",
       "    </tr>\n",
       "    <tr>\n",
       "      <th>28</th>\n",
       "      <td>1.0</td>\n",
       "      <td>-0.365473</td>\n",
       "    </tr>\n",
       "    <tr>\n",
       "      <th>29</th>\n",
       "      <td>3.0</td>\n",
       "      <td>7.753455</td>\n",
       "    </tr>\n",
       "  </tbody>\n",
       "</table>\n",
       "</div>"
      ],
      "text/plain": [
       "    Actual  Predicted\n",
       "0     21.0  62.617722\n",
       "1      3.0   0.372611\n",
       "2     13.0  17.102522\n",
       "3      1.0   0.126583\n",
       "4     32.0  27.681731\n",
       "5      4.0   2.340836\n",
       "6     19.0  29.649956\n",
       "7     27.0  28.911871\n",
       "8     55.0  46.625895\n",
       "9      5.0   3.817005\n",
       "10     1.0   2.586864\n",
       "11     8.0  21.531028\n",
       "12    19.0  13.166073\n",
       "13     4.0   4.309061\n",
       "14     2.0   0.372611\n",
       "15     3.0  13.166073\n",
       "16     9.0  23.499253\n",
       "17     3.0  21.038972\n",
       "18     2.0   4.309061\n",
       "19    40.0  41.459305\n",
       "20     3.0   3.817005\n",
       "21    10.0   7.015370\n",
       "22     2.0  -0.611501\n",
       "23     5.0   5.539202\n",
       "24     1.0   0.618640\n",
       "25     6.0  15.134298\n",
       "26     1.0  -0.611501\n",
       "27     3.0  -0.611501\n",
       "28     1.0  -0.365473\n",
       "29     3.0   7.753455"
      ]
     },
     "execution_count": 78,
     "metadata": {},
     "output_type": "execute_result"
    }
   ],
   "source": [
    "# Create a dataframe comparing the actual and predicted values of y.\n",
    "\n",
    "data2 = pd.DataFrame({'Actual': y_test.flatten(), 'Predicted': y_pred.flatten()})\n",
    "data2.head(30)"
   ]
  },
  {
   "cell_type": "code",
   "execution_count": 79,
   "id": "2dd1e667",
   "metadata": {},
   "outputs": [],
   "source": [
    "# Predicting. X train\n",
    "\n",
    "y_pred_train = regression.predict(X_train)"
   ]
  },
  {
   "cell_type": "code",
   "execution_count": 80,
   "id": "0536d78b",
   "metadata": {},
   "outputs": [],
   "source": [
    "rmse = mean_squared_error(y_train, y_pred_train)\n",
    "r2 = r2_score(y_train, y_pred_train)"
   ]
  },
  {
   "cell_type": "code",
   "execution_count": 81,
   "id": "3348604e",
   "metadata": {},
   "outputs": [
    {
     "name": "stdout",
     "output_type": "stream",
     "text": [
      "Slope: [[0.2460281]]\n",
      "Mean squared error:  305.3440465788582\n",
      "R2 score:  0.6377278200696048\n"
     ]
    }
   ],
   "source": [
    "print('Slope:' ,regression.coef_)\n",
    "print('Mean squared error: ', rmse)\n",
    "print('R2 score: ', r2)"
   ]
  },
  {
   "cell_type": "markdown",
   "id": "560528ee",
   "metadata": {},
   "source": [
    "#### Notes \n",
    "R-squared (R2) Score: The R2 score of approximately 0.638 indicates that about 63.8% of the variability in the number of applications can be explained by the number of views.\n",
    "\n",
    "The slope of the regression line is approximately 0.246. This means that for each additional view, we can expect on average a 0.246 increase in the number of applications. This is a positive relationship indicating that as the number of views increases, so does the number of applications."
   ]
  },
  {
   "cell_type": "markdown",
   "id": "6e12a8cd",
   "metadata": {},
   "source": [
    "### Exploring the relationship between applies and views (top 4 other industries combined base on job offers)"
   ]
  },
  {
   "cell_type": "code",
   "execution_count": 85,
   "id": "ab1e8670",
   "metadata": {},
   "outputs": [],
   "source": [
    "# Defining the list of top 4 industries (not it)\n",
    "selected_industries = [\n",
    "    'Staffing & Recruiting', \n",
    "    'Hospital & Health Care', \n",
    "    'Retail', \n",
    "    'Computer Software'\n",
    "]\n",
    "\n",
    "# Filter the DataFrame\n",
    "no_it_jobs = merged_jobs_link[\n",
    "    (merged_jobs_link['industry'].isin(selected_industries)) & \n",
    "    merged_jobs_link['applies'].notnull() & \n",
    "    merged_jobs_link['views'].notnull()\n",
    "]\n",
    "\n"
   ]
  },
  {
   "cell_type": "code",
   "execution_count": 86,
   "id": "22e3eb10",
   "metadata": {},
   "outputs": [
    {
     "data": {
      "image/png": "[encoded data removed]",
      "text/plain": [
       "<Figure size 640x480 with 1 Axes>"
      ]
     },
     "metadata": {},
     "output_type": "display_data"
    }
   ],
   "source": [
    "# Creating a scatterplot using matplotlib for another look at how the chosen variables plot against each other.\n",
    "\n",
    "no_it_jobs.plot(x = 'views', y='applies',style='o') \n",
    "plt.xlabel('views')  \n",
    "plt.ylabel('applies')  \n",
    "plt.show()"
   ]
  },
  {
   "cell_type": "code",
   "execution_count": 87,
   "id": "c690a25c",
   "metadata": {},
   "outputs": [],
   "source": [
    "# Reshaping the variables into NumPy arrays and put them into separate objects.\n",
    "\n",
    "X = no_it_jobs['views'].values.reshape(-1,1)\n",
    "y = no_it_jobs['applies'].values.reshape(-1,1)"
   ]
  },
  {
   "cell_type": "code",
   "execution_count": 88,
   "id": "711e1d17",
   "metadata": {},
   "outputs": [],
   "source": [
    "# Split data into a training set and a test set.\n",
    "\n",
    "X_train, X_test, y_train, y_test = train_test_split(X, y, test_size=0.3, random_state=0)"
   ]
  },
  {
   "cell_type": "markdown",
   "id": "bf49f24b",
   "metadata": {},
   "source": [
    "### Ready for regression analysis"
   ]
  },
  {
   "cell_type": "code",
   "execution_count": 89,
   "id": "fe5ec1b3",
   "metadata": {},
   "outputs": [],
   "source": [
    "# Creating a regression object.\n",
    "\n",
    "regression = LinearRegression()  "
   ]
  },
  {
   "cell_type": "code",
   "execution_count": 90,
   "id": "056b9a06",
   "metadata": {},
   "outputs": [
    {
     "data": {
      "text/html": [
       "<style>#sk-container-id-2 {color: black;}#sk-container-id-2 pre{padding: 0;}#sk-container-id-2 div.sk-toggleable {background-color: white;}#sk-container-id-2 label.sk-toggleable__label {cursor: pointer;display: block;width: 100%;margin-bottom: 0;padding: 0.3em;box-sizing: border-box;text-align: center;}#sk-container-id-2 label.sk-toggleable__label-arrow:before {content: \"▸\";float: left;margin-right: 0.25em;color: #696969;}#sk-container-id-2 label.sk-toggleable__label-arrow:hover:before {color: black;}#sk-container-id-2 div.sk-estimator:hover label.sk-toggleable__label-arrow:before {color: black;}#sk-container-id-2 div.sk-toggleable__content {max-height: 0;max-width: 0;overflow: hidden;text-align: left;background-color: #f0f8ff;}#sk-container-id-2 div.sk-toggleable__content pre {margin: 0.2em;color: black;border-radius: 0.25em;background-color: #f0f8ff;}#sk-container-id-2 input.sk-toggleable__control:checked~div.sk-toggleable__content {max-height: 200px;max-width: 100%;overflow: auto;}#sk-container-id-2 input.sk-toggleable__control:checked~label.sk-toggleable__label-arrow:before {content: \"▾\";}#sk-container-id-2 div.sk-estimator input.sk-toggleable__control:checked~label.sk-toggleable__label {background-color: #d4ebff;}#sk-container-id-2 div.sk-label input.sk-toggleable__control:checked~label.sk-toggleable__label {background-color: #d4ebff;}#sk-container-id-2 input.sk-hidden--visually {border: 0;clip: rect(1px 1px 1px 1px);clip: rect(1px, 1px, 1px, 1px);height: 1px;margin: -1px;overflow: hidden;padding: 0;position: absolute;width: 1px;}#sk-container-id-2 div.sk-estimator {font-family: monospace;background-color: #f0f8ff;border: 1px dotted black;border-radius: 0.25em;box-sizing: border-box;margin-bottom: 0.5em;}#sk-container-id-2 div.sk-estimator:hover {background-color: #d4ebff;}#sk-container-id-2 div.sk-parallel-item::after {content: \"\";width: 100%;border-bottom: 1px solid gray;flex-grow: 1;}#sk-container-id-2 div.sk-label:hover label.sk-toggleable__label {background-color: #d4ebff;}#sk-container-id-2 div.sk-serial::before {content: \"\";position: absolute;border-left: 1px solid gray;box-sizing: border-box;top: 0;bottom: 0;left: 50%;z-index: 0;}#sk-container-id-2 div.sk-serial {display: flex;flex-direction: column;align-items: center;background-color: white;padding-right: 0.2em;padding-left: 0.2em;position: relative;}#sk-container-id-2 div.sk-item {position: relative;z-index: 1;}#sk-container-id-2 div.sk-parallel {display: flex;align-items: stretch;justify-content: center;background-color: white;position: relative;}#sk-container-id-2 div.sk-item::before, #sk-container-id-2 div.sk-parallel-item::before {content: \"\";position: absolute;border-left: 1px solid gray;box-sizing: border-box;top: 0;bottom: 0;left: 50%;z-index: -1;}#sk-container-id-2 div.sk-parallel-item {display: flex;flex-direction: column;z-index: 1;position: relative;background-color: white;}#sk-container-id-2 div.sk-parallel-item:first-child::after {align-self: flex-end;width: 50%;}#sk-container-id-2 div.sk-parallel-item:last-child::after {align-self: flex-start;width: 50%;}#sk-container-id-2 div.sk-parallel-item:only-child::after {width: 0;}#sk-container-id-2 div.sk-dashed-wrapped {border: 1px dashed gray;margin: 0 0.4em 0.5em 0.4em;box-sizing: border-box;padding-bottom: 0.4em;background-color: white;}#sk-container-id-2 div.sk-label label {font-family: monospace;font-weight: bold;display: inline-block;line-height: 1.2em;}#sk-container-id-2 div.sk-label-container {text-align: center;}#sk-container-id-2 div.sk-container {/* jupyter's `normalize.less` sets `[hidden] { display: none; }` but bootstrap.min.css set `[hidden] { display: none !important; }` so we also need the `!important` here to be able to override the default hidden behavior on the sphinx rendered scikit-learn.org. See: https://github.com/scikit-learn/scikit-learn/issues/21755 */display: inline-block !important;position: relative;}#sk-container-id-2 div.sk-text-repr-fallback {display: none;}</style><div id=\"sk-container-id-2\" class=\"sk-top-container\"><div class=\"sk-text-repr-fallback\"><pre>LinearRegression()</pre><b>In a Jupyter environment, please rerun this cell to show the HTML representation or trust the notebook. <br />On GitHub, the HTML representation is unable to render, please try loading this page with nbviewer.org.</b></div><div class=\"sk-container\" hidden><div class=\"sk-item\"><div class=\"sk-estimator sk-toggleable\"><input class=\"sk-toggleable__control sk-hidden--visually\" id=\"sk-estimator-id-2\" type=\"checkbox\" checked><label for=\"sk-estimator-id-2\" class=\"sk-toggleable__label sk-toggleable__label-arrow\">LinearRegression</label><div class=\"sk-toggleable__content\"><pre>LinearRegression()</pre></div></div></div></div></div>"
      ],
      "text/plain": [
       "LinearRegression()"
      ]
     },
     "execution_count": 90,
     "metadata": {},
     "output_type": "execute_result"
    }
   ],
   "source": [
    "# Fitting the regression object onto the training set.\n",
    "\n",
    "regression.fit(X_train, y_train)"
   ]
  },
  {
   "cell_type": "code",
   "execution_count": 91,
   "id": "f0bdd561",
   "metadata": {},
   "outputs": [],
   "source": [
    "# Predict the values of y using X.\n",
    "\n",
    "y_pred = regression.predict(X_test)"
   ]
  },
  {
   "cell_type": "code",
   "execution_count": 92,
   "id": "5fa9d7a6",
   "metadata": {},
   "outputs": [
    {
     "data": {
      "image/png": "[encoded data removed]",
      "text/plain": [
       "<Figure size 640x480 with 1 Axes>"
      ]
     },
     "metadata": {},
     "output_type": "display_data"
    }
   ],
   "source": [
    "# Creating a plot that shows the regression line from the model on the test set.\n",
    "\n",
    "plot_test = plt\n",
    "plot_test.scatter(X_test, y_test, color='gray', s = 15)\n",
    "plot_test.plot(X_test, y_pred, color='red', linewidth =3)\n",
    "plot_test.title('Job applications vs job views on the top 4 industries (not it)')\n",
    "plot_test.xlabel('job views')\n",
    "plot_test.ylabel('job applications')\n",
    "plot_test.show()"
   ]
  },
  {
   "cell_type": "code",
   "execution_count": 94,
   "id": "e1a0cd43",
   "metadata": {},
   "outputs": [],
   "source": [
    "# Creating objects that contain the model summary statistics.\n",
    "\n",
    "rmse = mean_squared_error(y_test, y_pred) \n",
    "r2 = r2_score(y_test, y_pred) "
   ]
  },
  {
   "cell_type": "code",
   "execution_count": 95,
   "id": "1c990dbd",
   "metadata": {},
   "outputs": [
    {
     "name": "stdout",
     "output_type": "stream",
     "text": [
      "Slope: [[0.20468508]]\n",
      "Mean squared error:  260.1176562973674\n",
      "R2 score:  0.7043620396545711\n"
     ]
    }
   ],
   "source": [
    "# Printing the model summary statistics. \n",
    "\n",
    "print('Slope:' ,regression.coef_)\n",
    "print('Mean squared error: ', rmse)\n",
    "print('R2 score: ', r2)"
   ]
  },
  {
   "cell_type": "code",
   "execution_count": 96,
   "id": "9ffd2f15",
   "metadata": {},
   "outputs": [
    {
     "data": {
      "text/html": [
       "<div>\n",
       "<style scoped>\n",
       "    .dataframe tbody tr th:only-of-type {\n",
       "        vertical-align: middle;\n",
       "    }\n",
       "\n",
       "    .dataframe tbody tr th {\n",
       "        vertical-align: top;\n",
       "    }\n",
       "\n",
       "    .dataframe thead th {\n",
       "        text-align: right;\n",
       "    }\n",
       "</style>\n",
       "<table border=\"1\" class=\"dataframe\">\n",
       "  <thead>\n",
       "    <tr style=\"text-align: right;\">\n",
       "      <th></th>\n",
       "      <th>Actual</th>\n",
       "      <th>Predicted</th>\n",
       "    </tr>\n",
       "  </thead>\n",
       "  <tbody>\n",
       "    <tr>\n",
       "      <th>0</th>\n",
       "      <td>23.0</td>\n",
       "      <td>14.886720</td>\n",
       "    </tr>\n",
       "    <tr>\n",
       "      <th>1</th>\n",
       "      <td>27.0</td>\n",
       "      <td>17.138256</td>\n",
       "    </tr>\n",
       "    <tr>\n",
       "      <th>2</th>\n",
       "      <td>75.0</td>\n",
       "      <td>44.156686</td>\n",
       "    </tr>\n",
       "    <tr>\n",
       "      <th>3</th>\n",
       "      <td>23.0</td>\n",
       "      <td>20.822587</td>\n",
       "    </tr>\n",
       "    <tr>\n",
       "      <th>4</th>\n",
       "      <td>3.0</td>\n",
       "      <td>1.172819</td>\n",
       "    </tr>\n",
       "    <tr>\n",
       "      <th>5</th>\n",
       "      <td>10.0</td>\n",
       "      <td>8.336797</td>\n",
       "    </tr>\n",
       "    <tr>\n",
       "      <th>6</th>\n",
       "      <td>13.0</td>\n",
       "      <td>9.360223</td>\n",
       "    </tr>\n",
       "    <tr>\n",
       "      <th>7</th>\n",
       "      <td>3.0</td>\n",
       "      <td>7.108687</td>\n",
       "    </tr>\n",
       "    <tr>\n",
       "      <th>8</th>\n",
       "      <td>7.0</td>\n",
       "      <td>6.085261</td>\n",
       "    </tr>\n",
       "    <tr>\n",
       "      <th>9</th>\n",
       "      <td>12.0</td>\n",
       "      <td>4.857151</td>\n",
       "    </tr>\n",
       "    <tr>\n",
       "      <th>10</th>\n",
       "      <td>39.0</td>\n",
       "      <td>80.590630</td>\n",
       "    </tr>\n",
       "    <tr>\n",
       "      <th>11</th>\n",
       "      <td>8.0</td>\n",
       "      <td>25.325659</td>\n",
       "    </tr>\n",
       "    <tr>\n",
       "      <th>12</th>\n",
       "      <td>14.0</td>\n",
       "      <td>16.319515</td>\n",
       "    </tr>\n",
       "    <tr>\n",
       "      <th>13</th>\n",
       "      <td>14.0</td>\n",
       "      <td>12.225814</td>\n",
       "    </tr>\n",
       "    <tr>\n",
       "      <th>14</th>\n",
       "      <td>16.0</td>\n",
       "      <td>14.067979</td>\n",
       "    </tr>\n",
       "    <tr>\n",
       "      <th>15</th>\n",
       "      <td>5.0</td>\n",
       "      <td>7.722742</td>\n",
       "    </tr>\n",
       "    <tr>\n",
       "      <th>16</th>\n",
       "      <td>44.0</td>\n",
       "      <td>60.940863</td>\n",
       "    </tr>\n",
       "    <tr>\n",
       "      <th>17</th>\n",
       "      <td>11.0</td>\n",
       "      <td>22.869438</td>\n",
       "    </tr>\n",
       "    <tr>\n",
       "      <th>18</th>\n",
       "      <td>1.0</td>\n",
       "      <td>7.518057</td>\n",
       "    </tr>\n",
       "    <tr>\n",
       "      <th>19</th>\n",
       "      <td>2.0</td>\n",
       "      <td>1.582190</td>\n",
       "    </tr>\n",
       "    <tr>\n",
       "      <th>20</th>\n",
       "      <td>9.0</td>\n",
       "      <td>10.997703</td>\n",
       "    </tr>\n",
       "    <tr>\n",
       "      <th>21</th>\n",
       "      <td>1.0</td>\n",
       "      <td>1.991560</td>\n",
       "    </tr>\n",
       "    <tr>\n",
       "      <th>22</th>\n",
       "      <td>19.0</td>\n",
       "      <td>26.349084</td>\n",
       "    </tr>\n",
       "    <tr>\n",
       "      <th>23</th>\n",
       "      <td>12.0</td>\n",
       "      <td>67.286100</td>\n",
       "    </tr>\n",
       "    <tr>\n",
       "      <th>24</th>\n",
       "      <td>16.0</td>\n",
       "      <td>11.407073</td>\n",
       "    </tr>\n",
       "    <tr>\n",
       "      <th>25</th>\n",
       "      <td>2.0</td>\n",
       "      <td>5.061836</td>\n",
       "    </tr>\n",
       "    <tr>\n",
       "      <th>26</th>\n",
       "      <td>6.0</td>\n",
       "      <td>6.289946</td>\n",
       "    </tr>\n",
       "    <tr>\n",
       "      <th>27</th>\n",
       "      <td>37.0</td>\n",
       "      <td>16.933571</td>\n",
       "    </tr>\n",
       "    <tr>\n",
       "      <th>28</th>\n",
       "      <td>289.0</td>\n",
       "      <td>241.677788</td>\n",
       "    </tr>\n",
       "    <tr>\n",
       "      <th>29</th>\n",
       "      <td>7.0</td>\n",
       "      <td>6.085261</td>\n",
       "    </tr>\n",
       "  </tbody>\n",
       "</table>\n",
       "</div>"
      ],
      "text/plain": [
       "    Actual   Predicted\n",
       "0     23.0   14.886720\n",
       "1     27.0   17.138256\n",
       "2     75.0   44.156686\n",
       "3     23.0   20.822587\n",
       "4      3.0    1.172819\n",
       "5     10.0    8.336797\n",
       "6     13.0    9.360223\n",
       "7      3.0    7.108687\n",
       "8      7.0    6.085261\n",
       "9     12.0    4.857151\n",
       "10    39.0   80.590630\n",
       "11     8.0   25.325659\n",
       "12    14.0   16.319515\n",
       "13    14.0   12.225814\n",
       "14    16.0   14.067979\n",
       "15     5.0    7.722742\n",
       "16    44.0   60.940863\n",
       "17    11.0   22.869438\n",
       "18     1.0    7.518057\n",
       "19     2.0    1.582190\n",
       "20     9.0   10.997703\n",
       "21     1.0    1.991560\n",
       "22    19.0   26.349084\n",
       "23    12.0   67.286100\n",
       "24    16.0   11.407073\n",
       "25     2.0    5.061836\n",
       "26     6.0    6.289946\n",
       "27    37.0   16.933571\n",
       "28   289.0  241.677788\n",
       "29     7.0    6.085261"
      ]
     },
     "execution_count": 96,
     "metadata": {},
     "output_type": "execute_result"
    }
   ],
   "source": [
    "# Create a dataframe comparing the actual and predicted values of y.\n",
    "\n",
    "data3 = pd.DataFrame({'Actual': y_test.flatten(), 'Predicted': y_pred.flatten()})\n",
    "data3.head(30)"
   ]
  },
  {
   "cell_type": "markdown",
   "id": "42eb4e1a",
   "metadata": {},
   "source": [
    "### Comparing how regression affected the trainning set"
   ]
  },
  {
   "cell_type": "code",
   "execution_count": 97,
   "id": "e7aeb242",
   "metadata": {},
   "outputs": [],
   "source": [
    "# Predict.\n",
    "\n",
    "y_predicted_train = regression.predict(X_train) "
   ]
  },
  {
   "cell_type": "code",
   "execution_count": 98,
   "id": "81aeb1a0",
   "metadata": {},
   "outputs": [],
   "source": [
    "rmse = mean_squared_error(y_train, y_predicted_train)\n",
    "r2 = r2_score(y_train, y_predicted_train)"
   ]
  },
  {
   "cell_type": "code",
   "execution_count": 99,
   "id": "4e036b66",
   "metadata": {},
   "outputs": [
    {
     "name": "stdout",
     "output_type": "stream",
     "text": [
      "Slope: [[0.20468508]]\n",
      "Mean squared error:  264.0479397548099\n",
      "R2 score:  0.705132543918074\n"
     ]
    }
   ],
   "source": [
    "print('Slope:' ,regression.coef_)\n",
    "print('Mean squared error: ', rmse)\n",
    "print('R2 score: ', r2)"
   ]
  },
  {
   "cell_type": "code",
   "execution_count": 101,
   "id": "49965ba6",
   "metadata": {},
   "outputs": [
    {
     "data": {
      "image/png": "[encoded data removed]",
      "text/plain": [
       "<Figure size 640x480 with 1 Axes>"
      ]
     },
     "metadata": {},
     "output_type": "display_data"
    }
   ],
   "source": [
    "# Visualizing the training set results.\n",
    "\n",
    "plot_test = plt\n",
    "plot_test.scatter(X_train, y_train, color='green', s = 15)\n",
    "plot_test.plot(X_train, y_predicted_train, color='red', linewidth =3)\n",
    "plot_test.title('applies vs views (Train set)')\n",
    "plot_test.xlabel('applies')\n",
    "plot_test.ylabel('views')\n",
    "plot_test.show()"
   ]
  },
  {
   "cell_type": "markdown",
   "id": "2a8bf495",
   "metadata": {},
   "source": [
    "#### Notes: \n",
    "\n",
    "Slope: The slope of the regression line is approximately 0.205. This indicates that for each additional view, there is an average increase of 0.205 in the number of applications\n",
    "\n",
    "R-squared (R2) Score: The R2 score has increased to approximately 0.705\n",
    "\n",
    "The MSE has decreased to 264.048 "
   ]
  },
  {
   "cell_type": "markdown",
   "id": "07eb3210",
   "metadata": {},
   "source": [
    "### Comparisson between Relationship between job applications and job views on (Staffing & Recruiting, Retail,Hospital & Healthcare, and Computer software (combined)) and IT jobs applications and job views:\n",
    "\n",
    "Slope:\n",
    "\n",
    "IT Industry: 0.246\n",
    "\n",
    "Combined Industries: 0.205\n",
    "\n",
    "##### The slope for the IT industry is higher, which indicates that the number of applications increases more per view in this industry than in the combined industries. This suggests that job listings in the IT industry might be more effective at converting views into applications.\n",
    "\n",
    "Mean Squared Error (MSE):\n",
    "\n",
    "IT Industry: 305.344\n",
    "\n",
    "Combined Industries: 264.048\n",
    "\n",
    "##### The MSE is lower for the combined industries, which suggests that the predictions for the number of applications based on the number of views are closer to the actual numbers when compared to the IT industry. A lower MSE indicates a better fit of the model to the data, so the model for the combined industries may be more accurate.\n",
    "\n",
    "R-squared (R2) Score:\n",
    "\n",
    "IT Industry: 0.638\n",
    "\n",
    "Combined Industries: 0.705\n",
    "\n",
    "##### The R2 score is higher for the combined industries, meaning that the model explains a greater proportion of the variance in the number of applications. This implies that job views are a stronger predictor of job applications in the combined industries than in the IT industry alone.\n",
    "\n",
    "Overall Conclusion:\n",
    "\n",
    "The model for the combined industries seems to have a better fit than the model for the IT industry alone. This is based on both a lower MSE and a higher R2 score.\n",
    "Job views in the IT industry are associated with a higher increase in job applications (higher slope), but the model is less predictive overall (lower R2 score) compared to the combined industries.\n",
    "These results could suggest that while job listings in the IT industry might attract more applications per view, the behavior of job seekers in the combined industries is more consistent or homogeneous, leading to a model that can predict applications more accurately."
   ]
  },
  {
   "cell_type": "code",
   "execution_count": null,
   "id": "fca5a1fd",
   "metadata": {},
   "outputs": [],
   "source": []
  }
 ],
 "metadata": {
  "kernelspec": {
   "display_name": "Python 3 (ipykernel)",
   "language": "python",
   "name": "python3"
  },
  "language_info": {
   "codemirror_mode": {
    "name": "ipython",
    "version": 3
   },
   "file_extension": ".py",
   "mimetype": "text/x-python",
   "name": "python",
   "nbconvert_exporter": "python",
   "pygments_lexer": "ipython3",
   "version": "3.11.4"
  }
 },
 "nbformat": 4,
 "nbformat_minor": 5
}
